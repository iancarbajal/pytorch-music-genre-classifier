{
 "cells": [
  {
   "cell_type": "code",
   "execution_count": 1,
   "metadata": {},
   "outputs": [],
   "source": [
    "import torch\n",
    "from torch import nn\n",
    "import torchaudio\n",
    "import matplotlib.pyplot as plt\n",
    "import os\n",
    "import random\n",
    "import torch\n",
    "from torch.utils.data import DataLoader, Dataset, random_split\n",
    "from torchaudio import transforms\n",
    "from typing import Tuple, Dict, List,Optional\n",
    "import pathlib"
   ]
  },
  {
   "cell_type": "code",
   "execution_count": 2,
   "metadata": {},
   "outputs": [
    {
     "name": "stdout",
     "output_type": "stream",
     "text": [
      "Currently using: cpu\n"
     ]
    },
    {
     "name": "stderr",
     "output_type": "stream",
     "text": [
      "/home/nai/miniconda3/envs/pytorch-music-genre-classifier/lib/python3.13/site-packages/torch/cuda/__init__.py:182: UserWarning: CUDA initialization: CUDA unknown error - this may be due to an incorrectly set up environment, e.g. changing env variable CUDA_VISIBLE_DEVICES after program start. Setting the available devices to be zero. (Triggered internally at /pytorch/c10/cuda/CUDAFunctions.cpp:109.)\n",
      "  return torch._C._cuda_getDeviceCount() > 0\n"
     ]
    }
   ],
   "source": [
    "if torch.cuda.is_available():\n",
    "    device = \"cuda\" # Use NVIDIA GPU (if available)\n",
    "elif torch.backends.mps.is_available():\n",
    "    device = \"mps\" # Use Apple Silicon GPU (if available)\n",
    "else:\n",
    "    device = \"cpu\" # Default to CPU if no GPU is available\n",
    "\n",
    "print(f\"Currently using: {device}\")"
   ]
  },
  {
   "cell_type": "code",
   "execution_count": 3,
   "metadata": {},
   "outputs": [],
   "source": [
    "# Make function to find classes in target directory\n",
    "def find_classes(directory: str) -> Tuple[List[str], Dict[str, int]]:\n",
    "    \"\"\"Finds the class folder names in a target directory.\n",
    "    \n",
    "    Assumes target directory is in standard classification format.\n",
    "\n",
    "    Args:\n",
    "        directory (str): target directory to load classnames from.\n",
    "\n",
    "    Returns:\n",
    "        Tuple[List[str], Dict[str, int]]: (list_of_class_names, dict(class_name: idx...))\n",
    "    \n",
    "    Example:\n",
    "        find_classes(\"genres\")\n",
    "        >>> ([\"class_1\", \"class_2\"], {\"class_1\": 0, ...})\n",
    "    \"\"\"\n",
    "    # 1. Get the class names by scanning the target directory\n",
    "    classes = sorted(entry.name for entry in os.scandir(directory) if entry.is_dir())\n",
    "    \n",
    "    # 2. Raise an error if class names not found\n",
    "    if not classes:\n",
    "        raise FileNotFoundError(f\"Couldn't find any classes in {directory}.\")\n",
    "        \n",
    "    # 3. Create a dictionary of index labels (computers prefer numerical rather than string labels)\n",
    "    class_to_idx = {cls_name: i for i, cls_name in enumerate(classes)}\n",
    "    return classes, class_to_idx"
   ]
  },
  {
   "cell_type": "code",
   "execution_count": 4,
   "metadata": {},
   "outputs": [
    {
     "data": {
      "text/plain": [
       "(['blues', 'classical', 'metal', 'pop'],\n",
       " {'blues': 0, 'classical': 1, 'metal': 2, 'pop': 3})"
      ]
     },
     "execution_count": 4,
     "metadata": {},
     "output_type": "execute_result"
    }
   ],
   "source": [
    "find_classes(\"genres\")"
   ]
  },
  {
   "cell_type": "code",
   "execution_count": 5,
   "metadata": {},
   "outputs": [],
   "source": [
    "# 1. Subclass torch.utils.data.Dataset\n",
    "class AudioFolder(Dataset):\n",
    "    \n",
    "    # 2. Initialize with a targ_dir and transform (optional) parameter\n",
    "    def __init__(self, targ_dir: str, transform=None) -> None:\n",
    "        \n",
    "        # 3. Create class attributes\n",
    "        # Get all songs paths\n",
    "        self.paths = list(pathlib.Path(targ_dir).glob(\"*/*.wav\"))\n",
    "        # Setup transforms\n",
    "        self.transform = transform\n",
    "        # Create classes and class_to_idx attributes\n",
    "        self.classes, self.class_to_idx = find_classes(targ_dir)\n",
    "    \n",
    "    # 4. Overwrite the __len__() method (optional but recommended for subclasses of torch.utils.data.Dataset)\n",
    "    def __len__(self) -> int:\n",
    "        \"Returns the total number of samples.\"\n",
    "        return len(self.paths)\n",
    "    \n",
    "    # 5. Overwrite the __getitem__() method (required for subclasses of torch.utils.data.Dataset)\n",
    "    def __getitem__(self, index: int) -> Tuple[torch.Tensor, int]:\n",
    "        \"Returns one sample of data, data and label (X, y).\"\n",
    "        sng , sr = torchaudio.load_with_torchcodec(self.paths[index])\n",
    "        if sr <= 22050:\n",
    "            sng=sng[:11025]\n",
    "        sng=(sng-sng.mean())/sng.std()\n",
    "        class_name  = self.paths[index].parent.name # expects path in data_folder/class_name/song.wav\n",
    "        class_idx = self.class_to_idx[class_name]\n",
    "\n",
    "        # Transform if necessary\n",
    "        if self.transform:\n",
    "            return self.transform(sng), class_idx # return data, label (X, y)\n",
    "        else:\n",
    "            return sng, class_idx # return data, label (X, y)"
   ]
  },
  {
   "cell_type": "code",
   "execution_count": 6,
   "metadata": {},
   "outputs": [],
   "source": [
    "STFT = transforms.Spectrogram(n_fft=256,hop_length=512)"
   ]
  },
  {
   "cell_type": "code",
   "execution_count": 7,
   "metadata": {},
   "outputs": [],
   "source": [
    "data = AudioFolder(targ_dir=\"genres\",transform=STFT)"
   ]
  },
  {
   "cell_type": "code",
   "execution_count": 8,
   "metadata": {},
   "outputs": [],
   "source": [
    "# 1. Take in a Dataset as well as a list of class names\n",
    "def display_random_images(dataset: torch.utils.data.dataset.Dataset,\n",
    "                          classes: List[str] = None,\n",
    "                          n: int = 10,\n",
    "                          display_shape: bool = True,\n",
    "                          seed: int = None):\n",
    "    \n",
    "    # 2. Adjust display if n too high\n",
    "    if n > 10:\n",
    "        n = 10\n",
    "        display_shape = False\n",
    "        print(f\"For display purposes, n shouldn't be larger than 10, setting to 10 and removing shape display.\")\n",
    "    \n",
    "    # 3. Set random seed\n",
    "    if seed:\n",
    "        random.seed(seed)\n",
    "\n",
    "    # 4. Get random sample indexes\n",
    "    random_samples_idx = random.sample(range(len(dataset)), k=n)\n",
    "\n",
    "    # 5. Setup plot\n",
    "    plt.figure(figsize=(16, 8))\n",
    "\n",
    "    # 6. Loop through samples and display random samples \n",
    "    for i, targ_sample in enumerate(random_samples_idx):\n",
    "        targ_image, targ_label = dataset[targ_sample][0], dataset[targ_sample][1]\n",
    "\n",
    "        # 7. Adjust image tensor shape for plotting: [color_channels, height, width] -> [color_channels, height, width]\n",
    "        targ_image_adjust = targ_image.permute(1, 2, 0)\n",
    "\n",
    "        # Plot adjusted samples\n",
    "        plt.subplot(1, n, i+1)\n",
    "        plt.specgram(targ_image_adjust,Fs=11025)\n",
    "        plt.axis(\"off\")\n",
    "        if classes:\n",
    "            title = f\"class: {classes[targ_label]}\"\n",
    "            if display_shape:\n",
    "                title = title #+ f\"\\nshape: {targ_image_adjust.shape}\"\n",
    "        plt.title(title)"
   ]
  },
  {
   "cell_type": "code",
   "execution_count": 9,
   "metadata": {},
   "outputs": [
    {
     "name": "stderr",
     "output_type": "stream",
     "text": [
      "/tmp/ipykernel_68247/2924035272.py:33: UserWarning: Only one segment is calculated since parameter NFFT (=256) >= signal length (=129).\n",
      "  plt.specgram(targ_image_adjust,Fs=11025)\n"
     ]
    },
    {
     "data": {
      "image/png": "[encoded data removed]",
      "text/plain": [
       "<Figure size 1600x800 with 5 Axes>"
      ]
     },
     "metadata": {},
     "output_type": "display_data"
    }
   ],
   "source": [
    "class_names= data.classes\n",
    "display_random_images(data, \n",
    "                      n=5, \n",
    "                      classes=class_names,\n",
    "                      seed=None)"
   ]
  },
  {
   "cell_type": "code",
   "execution_count": 10,
   "metadata": {},
   "outputs": [],
   "source": [
    "#80% train 20% test split\n",
    "train, test= random_split(data,[320,80])\n",
    "train_dataset=train.dataset\n",
    "test_dataset=test.dataset"
   ]
  },
  {
   "cell_type": "code",
   "execution_count": 11,
   "metadata": {},
   "outputs": [],
   "source": [
    "BATCH_SIZE = 1\n",
    "NUM_WORKERS = os.cpu_count()\n",
    "train_dataloader = DataLoader(dataset=train_dataset, # use custom created train Dataset\n",
    "                                     batch_size=BATCH_SIZE, # how many samples per batch?\n",
    "                                     num_workers=os.cpu_count(), # how many subprocesses to use for data loading? (higher = more)\n",
    "                                     shuffle=True) # shuffle the data?\n",
    "\n",
    "test_dataloader = DataLoader(dataset=test_dataset, # use custom created train Dataset\n",
    "                                     batch_size=BATCH_SIZE, # how many samples per batch?\n",
    "                                     num_workers=os.cpu_count(), # how many subprocesses to use for data loading? (higher = more)\n",
    "                                     shuffle=True) # shuffle the data?"
   ]
  },
  {
   "cell_type": "code",
   "execution_count": 12,
   "metadata": {},
   "outputs": [],
   "source": [
    "class STFTCNNBlock(nn.Module):\n",
    "    \"\"\"A single convolutional block for STFT CNN\"\"\"\n",
    "    \n",
    "    def __init__(self, in_channels: int, out_channels: int, \n",
    "                 kernel_size: int, pooling_type: str = 'max'):\n",
    "        super(STFTCNNBlock, self).__init__()\n",
    "        \n",
    "        self.conv = nn.Conv2d(in_channels, out_channels, \n",
    "                             kernel_size=kernel_size, padding='same')\n",
    "        self.relu = nn.ReLU()\n",
    "        \n",
    "        if pooling_type == 'max':\n",
    "            self.pool = nn.MaxPool2d(kernel_size=2, stride=2)\n",
    "        else:  # average pooling\n",
    "            self.pool = nn.AvgPool2d(kernel_size=2, stride=2)\n",
    "    \n",
    "    def forward(self, x):\n",
    "        x = self.conv(x)\n",
    "        x = self.relu(x)\n",
    "        x = self.pool(x)\n",
    "        return x"
   ]
  },
  {
   "cell_type": "code",
   "execution_count": 13,
   "metadata": {},
   "outputs": [],
   "source": [
    "class STFTCNN(nn.Module):\n",
    "    \"\"\"\n",
    "    CNN for processing STFT features as described in the paper.\n",
    "    Architecture: 5 convolutional blocks + fully connected layer\n",
    "    \"\"\"\n",
    "    \n",
    "    def __init__(self, input_channels: int = 1, \n",
    "                 conv_configs: Optional[list] = None,\n",
    "                 num_classes: int = 10, \n",
    "                 feature_dim: int = 200):\n",
    "        \"\"\"\n",
    "        Args:\n",
    "            input_channels: Number of input channels (1 for STFT magnitude)\n",
    "            conv_configs: List of tuples (out_channels, kernel_size, pooling_type)\n",
    "                         If None, uses the configuration from Table 1 in the paper\n",
    "            num_classes: Number of music genres\n",
    "            feature_dim: Dimension of extracted features (200 as in paper)\n",
    "        \"\"\"\n",
    "        super(STFTCNN, self).__init__()\n",
    "        \n",
    "        # Default configuration based on Table 1 (STFT CNN column)\n",
    "        if conv_configs is None:\n",
    "            conv_configs = [\n",
    "                (31, 15, 'max'),      # Conv1: 31 filters, 15x15, MaxPool\n",
    "                (38, 11, 'max'),      # Conv2: 38 filters, 11x11, MaxPool  \n",
    "                (43, 9, 'max'),       # Conv3: 43 filters, 9x9, MaxPool\n",
    "                (57, 6, 'average'),   # Conv4: 57 filters, 6x6, AvgPool\n",
    "                (64, 3, 'average')    # Conv5: 64 filters, 3x3, AvgPool\n",
    "            ]\n",
    "        \n",
    "        self.conv_blocks = nn.ModuleList()\n",
    "        in_channels = input_channels\n",
    "        \n",
    "        # Create 5 convolutional blocks\n",
    "        for out_channels, kernel_size, pooling_type in conv_configs:\n",
    "            block = STFTCNNBlock(in_channels, out_channels, \n",
    "                               kernel_size, pooling_type)\n",
    "            self.conv_blocks.append(block)\n",
    "            in_channels = out_channels\n",
    "        \n",
    "        # Placeholder for adaptive pooling and fully connected layer\n",
    "        # These will be initialized after the first forward pass\n",
    "        self.adaptive_pool = None\n",
    "        self.fc = None\n",
    "        self.feature_dim = feature_dim\n",
    "        self.num_classes = num_classes\n",
    "\n",
    "    def _init_fc_layer(self, x):\n",
    "        \"\"\"Initialize the fully connected layer based on feature map size\"\"\"\n",
    "        # Use adaptive average pooling to get fixed size output\n",
    "        self.adaptive_pool = nn.AdaptiveAvgPool2d((4, 4))\n",
    "        pooled = self.adaptive_pool(x)\n",
    "        \n",
    "        # Calculate flattened feature size\n",
    "        fc_input_size = pooled.numel() // pooled.shape[0]\n",
    "        \n",
    "        # Create fully connected layer for feature extraction\n",
    "        self.fc = nn.Linear(fc_input_size, self.feature_dim)\n",
    "        \n",
    "    def forward(self, x, return_features: bool = False):\n",
    "        \"\"\"\n",
    "        Forward pass through the network\n",
    "        \n",
    "        Args:\n",
    "            x: Input STFT tensor of shape (batch_size, 1, height, width)\n",
    "            return_features: If True, return features instead of classification\n",
    "        \n",
    "        Returns:\n",
    "            features or logits depending on return_features\n",
    "        \"\"\"\n",
    "        # Pass through convolutional blocks\n",
    "        for block in self.conv_blocks:\n",
    "            x = block(x)\n",
    "        \n",
    "        # Initialize FC layer on first forward pass\n",
    "        if self.fc is None:\n",
    "            self._init_fc_layer(x)\n",
    "            self.fc = self.fc.to(x.device)\n",
    "            self.adaptive_pool = self.adaptive_pool.to(x.device)\n",
    "        \n",
    "        # Global pooling and flatten\n",
    "        x = self.adaptive_pool(x)\n",
    "        x = x.view(x.size(0), -1)\n",
    "        \n",
    "        # Extract features\n",
    "        features = self.fc(x)\n",
    "        \n",
    "        if return_features:\n",
    "            return features\n",
    "        else:\n",
    "            # Add classification layer if needed\n",
    "            if not hasattr(self, 'classifier'):\n",
    "                self.classifier = nn.Linear(self.feature_dim, self.num_classes)\n",
    "                self.classifier = self.classifier.to(features.device)\n",
    "            \n",
    "            return self.classifier(features)"
   ]
  },
  {
   "cell_type": "code",
   "execution_count": 14,
   "metadata": {},
   "outputs": [],
   "source": [
    "model = STFTCNN(input_channels=1, num_classes=4)"
   ]
  },
  {
   "cell_type": "code",
   "execution_count": 15,
   "metadata": {},
   "outputs": [
    {
     "name": "stdout",
     "output_type": "stream",
     "text": [
      "Feature shape: torch.Size([1, 200])\n",
      "Logits shape: torch.Size([1, 4])\n"
     ]
    },
    {
     "name": "stderr",
     "output_type": "stream",
     "text": [
      "/home/nai/miniconda3/envs/pytorch-music-genre-classifier/lib/python3.13/site-packages/torch/nn/modules/conv.py:543: UserWarning: Using padding='same' with even kernel lengths and odd dilation may require a zero-padded copy of the input be created (Triggered internally at /pytorch/aten/src/ATen/native/Convolution.cpp:1027.)\n",
      "  return F.conv2d(\n"
     ]
    }
   ],
   "source": [
    "tinput, tlabel= next(iter(train_dataloader))\n",
    "\n",
    "features = model(tinput, return_features=True)\n",
    "print(f\"Feature shape: {features.shape}\")\n",
    "\n",
    "# Forward pass for classification\n",
    "logits = model(tinput, return_features=False)\n",
    "print(f\"Logits shape: {logits.shape}\")"
   ]
  },
  {
   "cell_type": "code",
   "execution_count": 16,
   "metadata": {},
   "outputs": [
    {
     "data": {
      "text/plain": [
       "tensor([[ 1.6214,  2.4725, -2.0031,  2.8918]], grad_fn=<AddmmBackward0>)"
      ]
     },
     "execution_count": 16,
     "metadata": {},
     "output_type": "execute_result"
    }
   ],
   "source": [
    "logits"
   ]
  },
  {
   "cell_type": "code",
   "execution_count": 19,
   "metadata": {},
   "outputs": [
    {
     "data": {
      "text/plain": [
       "==========================================================================================\n",
       "Layer (type:depth-idx)                   Output Shape              Param #\n",
       "==========================================================================================\n",
       "STFTCNN                                  [1, 4]                    --\n",
       "├─ModuleList: 1-1                        --                        --\n",
       "│    └─STFTCNNBlock: 2-1                 [1, 31, 64, 646]          --\n",
       "│    │    └─Conv2d: 3-1                  [1, 31, 129, 1293]        7,006\n",
       "│    │    └─ReLU: 3-2                    [1, 31, 129, 1293]        --\n",
       "│    │    └─MaxPool2d: 3-3               [1, 31, 64, 646]          --\n",
       "│    └─STFTCNNBlock: 2-2                 [1, 38, 32, 323]          --\n",
       "│    │    └─Conv2d: 3-4                  [1, 38, 64, 646]          142,576\n",
       "│    │    └─ReLU: 3-5                    [1, 38, 64, 646]          --\n",
       "│    │    └─MaxPool2d: 3-6               [1, 38, 32, 323]          --\n",
       "│    └─STFTCNNBlock: 2-3                 [1, 43, 16, 161]          --\n",
       "│    │    └─Conv2d: 3-7                  [1, 43, 32, 323]          132,397\n",
       "│    │    └─ReLU: 3-8                    [1, 43, 32, 323]          --\n",
       "│    │    └─MaxPool2d: 3-9               [1, 43, 16, 161]          --\n",
       "│    └─STFTCNNBlock: 2-4                 [1, 57, 8, 80]            --\n",
       "│    │    └─Conv2d: 3-10                 [1, 57, 16, 161]          88,293\n",
       "│    │    └─ReLU: 3-11                   [1, 57, 16, 161]          --\n",
       "│    │    └─AvgPool2d: 3-12              [1, 57, 8, 80]            --\n",
       "│    └─STFTCNNBlock: 2-5                 [1, 64, 4, 40]            --\n",
       "│    │    └─Conv2d: 3-13                 [1, 64, 8, 80]            32,896\n",
       "│    │    └─ReLU: 3-14                   [1, 64, 8, 80]            --\n",
       "│    │    └─AvgPool2d: 3-15              [1, 64, 4, 40]            --\n",
       "├─AdaptiveAvgPool2d: 1-2                 [1, 64, 4, 4]             --\n",
       "├─Linear: 1-3                            [1, 200]                  205,000\n",
       "├─Linear: 1-4                            [1, 4]                    804\n",
       "==========================================================================================\n",
       "Total params: 608,972\n",
       "Trainable params: 608,972\n",
       "Non-trainable params: 0\n",
       "Total mult-adds (Units.GIGABYTES): 8.68\n",
       "==========================================================================================\n",
       "Input size (MB): 0.67\n",
       "Forward/backward pass size (MB): 58.99\n",
       "Params size (MB): 2.44\n",
       "Estimated Total Size (MB): 62.10\n",
       "=========================================================================================="
      ]
     },
     "execution_count": 19,
     "metadata": {},
     "output_type": "execute_result"
    }
   ],
   "source": [
    "# Install torchinfo if it's not available, import it if it is\n",
    "try: \n",
    "    import torchinfo\n",
    "except:\n",
    "    !pip install torchinfo\n",
    "    import torchinfo\n",
    "    \n",
    "from torchinfo import summary\n",
    "summary(model, input_size=tinput.shape) # do a test pass through of an example input size "
   ]
  },
  {
   "cell_type": "code",
   "execution_count": 29,
   "metadata": {},
   "outputs": [],
   "source": [
    "def train_step(model: torch.nn.Module, \n",
    "               dataloader: torch.utils.data.DataLoader, \n",
    "               loss_fn: torch.nn.Module, \n",
    "               optimizer: torch.optim.Optimizer):\n",
    "    # Put model in train mode\n",
    "    model.train()\n",
    "    \n",
    "    # Setup train loss and train accuracy values\n",
    "    train_loss, train_acc = 0, 0\n",
    "    \n",
    "    # Loop through data loader data batches\n",
    "    for batch, (X, y) in enumerate(dataloader):\n",
    "        # Send data to target device\n",
    "        X, y = X.to(device), y.to(device)\n",
    "\n",
    "        # 1. Forward pass\n",
    "        y_pred = model(X)\n",
    "\n",
    "        # 2. Calculate  and accumulate loss\n",
    "        loss = loss_fn(y_pred, y)\n",
    "        train_loss += loss.item() \n",
    "\n",
    "        # 3. Optimizer zero grad\n",
    "        optimizer.zero_grad()\n",
    "\n",
    "        # 4. Loss backward\n",
    "        loss.backward()\n",
    "\n",
    "        # 5. Optimizer step\n",
    "        optimizer.step()\n",
    "\n",
    "        # Calculate and accumulate accuracy metrics across all batches\n",
    "        y_pred_class = torch.argmax(torch.softmax(y_pred, dim=1), dim=1)\n",
    "        train_acc += (y_pred_class == y).sum().item()/len(y_pred)\n",
    "\n",
    "    # Adjust metrics to get average loss and accuracy per batch \n",
    "    train_loss = train_loss / len(dataloader)\n",
    "    train_acc = train_acc / len(dataloader)\n",
    "    return train_loss, train_acc"
   ]
  },
  {
   "cell_type": "code",
   "execution_count": 33,
   "metadata": {},
   "outputs": [],
   "source": [
    "def test_step(model: torch.nn.Module, \n",
    "              dataloader: torch.utils.data.DataLoader, \n",
    "              loss_fn: torch.nn.Module):\n",
    "    # Put model in eval mode\n",
    "    model.eval() \n",
    "    \n",
    "    # Setup test loss and test accuracy values\n",
    "    test_loss, test_acc = 0, 0\n",
    "    \n",
    "    # Turn on inference context manager\n",
    "    with torch.inference_mode():\n",
    "        # Loop through DataLoader batches\n",
    "        for batch, (X, y) in enumerate(dataloader):\n",
    "            # Send data to target device\n",
    "            X, y = X.to(device), y.to(device)\n",
    "    \n",
    "            # 1. Forward pass\n",
    "            test_pred_logits = model(X)\n",
    "\n",
    "            # 2. Calculate and accumulate loss\n",
    "            loss = loss_fn(test_pred_logits, y)\n",
    "            test_loss += loss.item()\n",
    "            \n",
    "            # Calculate and accumulate accuracy\n",
    "            test_pred_labels = test_pred_logits.argmax(dim=1)\n",
    "            test_acc += ((test_pred_labels == y).sum().item()/len(test_pred_labels))\n",
    "            \n",
    "    # Adjust metrics to get average loss and accuracy per batch \n",
    "    test_loss = test_loss / len(dataloader)\n",
    "    test_acc = test_acc / len(dataloader)\n",
    "    return test_loss, test_acc"
   ]
  },
  {
   "cell_type": "code",
   "execution_count": 34,
   "metadata": {},
   "outputs": [],
   "source": [
    "from tqdm.auto import tqdm\n",
    "\n",
    "# 1. Take in various parameters required for training and test steps\n",
    "def train(model: torch.nn.Module, \n",
    "          train_dataloader: torch.utils.data.DataLoader, \n",
    "          test_dataloader: torch.utils.data.DataLoader, \n",
    "          optimizer: torch.optim.Optimizer,\n",
    "          loss_fn: torch.nn.Module = nn.CrossEntropyLoss(),\n",
    "          epochs: int = 5):\n",
    "    \n",
    "    # 2. Create empty results dictionary\n",
    "    results = {\"train_loss\": [],\n",
    "        \"train_acc\": [],\n",
    "        \"test_loss\": [],\n",
    "        \"test_acc\": []\n",
    "    }\n",
    "    \n",
    "    # 3. Loop through training and testing steps for a number of epochs\n",
    "    for epoch in tqdm(range(epochs)):\n",
    "        train_loss, train_acc = train_step(model=model,\n",
    "                                           dataloader=train_dataloader,\n",
    "                                           loss_fn=loss_fn,\n",
    "                                           optimizer=optimizer)\n",
    "        test_loss, test_acc = test_step(model=model,\n",
    "            dataloader=test_dataloader,\n",
    "            loss_fn=loss_fn)\n",
    "        \n",
    "        # 4. Print out what's happening\n",
    "        print(\n",
    "            f\"Epoch: {epoch+1} | \"\n",
    "            f\"train_loss: {train_loss:.4f} | \"\n",
    "            f\"train_acc: {train_acc:.4f} | \"\n",
    "            f\"test_loss: {test_loss:.4f} | \"\n",
    "            f\"test_acc: {test_acc:.4f}\"\n",
    "        )\n",
    "\n",
    "        # 5. Update results dictionary\n",
    "        # Ensure all data is moved to CPU and converted to float for storage\n",
    "        results[\"train_loss\"].append(train_loss.item() if isinstance(train_loss, torch.Tensor) else train_loss)\n",
    "        results[\"train_acc\"].append(train_acc.item() if isinstance(train_acc, torch.Tensor) else train_acc)\n",
    "        results[\"test_loss\"].append(test_loss.item() if isinstance(test_loss, torch.Tensor) else test_loss)\n",
    "        results[\"test_acc\"].append(test_acc.item() if isinstance(test_acc, torch.Tensor) else test_acc)\n",
    "\n",
    "    # 6. Return the filled results at the end of the epochs\n",
    "    return results"
   ]
  },
  {
   "cell_type": "code",
   "execution_count": 35,
   "metadata": {},
   "outputs": [
    {
     "name": "stderr",
     "output_type": "stream",
     "text": [
      " 20%|██        | 1/5 [01:13<04:52, 73.17s/it]"
     ]
    },
    {
     "name": "stdout",
     "output_type": "stream",
     "text": [
      "Epoch: 1 | train_loss: 1.8207 | train_acc: 0.3950 | test_loss: 0.6031 | test_acc: 0.7650\n"
     ]
    },
    {
     "name": "stderr",
     "output_type": "stream",
     "text": [
      " 40%|████      | 2/5 [02:27<03:41, 73.78s/it]"
     ]
    },
    {
     "name": "stdout",
     "output_type": "stream",
     "text": [
      "Epoch: 2 | train_loss: 0.8684 | train_acc: 0.6850 | test_loss: 0.4166 | test_acc: 0.8525\n"
     ]
    },
    {
     "name": "stderr",
     "output_type": "stream",
     "text": [
      " 60%|██████    | 3/5 [03:42<02:28, 74.20s/it]"
     ]
    },
    {
     "name": "stdout",
     "output_type": "stream",
     "text": [
      "Epoch: 3 | train_loss: 0.4276 | train_acc: 0.8600 | test_loss: 0.6048 | test_acc: 0.8075\n"
     ]
    },
    {
     "name": "stderr",
     "output_type": "stream",
     "text": [
      " 80%|████████  | 4/5 [04:57<01:14, 74.86s/it]"
     ]
    },
    {
     "name": "stdout",
     "output_type": "stream",
     "text": [
      "Epoch: 4 | train_loss: 0.4923 | train_acc: 0.8375 | test_loss: 0.3001 | test_acc: 0.8675\n"
     ]
    },
    {
     "name": "stderr",
     "output_type": "stream",
     "text": [
      "100%|██████████| 5/5 [06:13<00:00, 74.62s/it]"
     ]
    },
    {
     "name": "stdout",
     "output_type": "stream",
     "text": [
      "Epoch: 5 | train_loss: 0.2358 | train_acc: 0.9150 | test_loss: 0.3090 | test_acc: 0.8825\n",
      "Total training time: 373.114 seconds\n"
     ]
    },
    {
     "name": "stderr",
     "output_type": "stream",
     "text": [
      "\n"
     ]
    }
   ],
   "source": [
    "# Set random seeds\n",
    "torch.manual_seed(42) \n",
    "torch.cuda.manual_seed(42)\n",
    "\n",
    "# Set number of epochs\n",
    "NUM_EPOCHS = 5\n",
    "\n",
    "# Recreate an instance of TinyVGG\n",
    "model_0 = STFTCNN()\n",
    "\n",
    "# Setup loss function and optimizer\n",
    "loss_fn = nn.CrossEntropyLoss()\n",
    "optimizer = torch.optim.Adam(params=model_0.parameters(), lr=0.001)\n",
    "\n",
    "# Start the timer\n",
    "from timeit import default_timer as timer \n",
    "start_time = timer()\n",
    "\n",
    "# Train model_0 \n",
    "model_0_results = train(model=model_0, \n",
    "                        train_dataloader=train_dataloader,\n",
    "                        test_dataloader=test_dataloader,\n",
    "                        optimizer=optimizer,\n",
    "                        loss_fn=loss_fn, \n",
    "                        epochs=NUM_EPOCHS)\n",
    "\n",
    "# End the timer and print out how long it took\n",
    "end_time = timer()\n",
    "print(f\"Total training time: {end_time-start_time:.3f} seconds\")"
   ]
  },
  {
   "cell_type": "code",
   "execution_count": null,
   "metadata": {},
   "outputs": [],
   "source": []
  }
 ],
 "metadata": {
  "kernelspec": {
   "display_name": "pytorch-music-genre-classifier",
   "language": "python",
   "name": "python3"
  },
  "language_info": {
   "codemirror_mode": {
    "name": "ipython",
    "version": 3
   },
   "file_extension": ".py",
   "mimetype": "text/x-python",
   "name": "python",
   "nbconvert_exporter": "python",
   "pygments_lexer": "ipython3",
   "version": "3.13.5"
  }
 },
 "nbformat": 4,
 "nbformat_minor": 2
}
